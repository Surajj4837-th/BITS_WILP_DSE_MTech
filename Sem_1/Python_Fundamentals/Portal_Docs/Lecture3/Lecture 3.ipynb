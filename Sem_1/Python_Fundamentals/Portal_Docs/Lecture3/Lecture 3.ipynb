{
 "cells": [
  {
   "cell_type": "markdown",
   "metadata": {},
   "source": [
    "<b> Decision Making <b>"
   ]
  },
  {
   "cell_type": "markdown",
   "metadata": {},
   "source": [
    "<img width=\"200\" height=\"200\" src=\"./if-statement.jpg\">"
   ]
  },
  {
   "cell_type": "code",
   "execution_count": 3,
   "metadata": {},
   "outputs": [
    {
     "name": "stdout",
     "output_type": "stream",
     "text": [
      "Enter the number \n",
      "5\n",
      "Number is  5\n",
      "I am out of the condition ... I will execute always !!\n"
     ]
    }
   ],
   "source": [
    "#If statement example \n",
    "number1 = int(input(\"Enter the number \\n\"))\n",
    "if number1 == 5 :\n",
    "    print(\"Number is \" , number1) #if block statement \n",
    "\n",
    "print(\"I am out of the condition ... I will execute always !!\")"
   ]
  },
  {
   "cell_type": "code",
   "execution_count": 5,
   "metadata": {},
   "outputs": [
    {
     "name": "stdout",
     "output_type": "stream",
     "text": [
      "Enter the number \n",
      "10\n",
      "You did not enter 5 . Number you entered is  10\n",
      "I am out of the condition ... I will execute always !!\n"
     ]
    }
   ],
   "source": [
    "#If - else statement example \n",
    "number1 = int(input(\"Enter the number \\n\"))\n",
    "if number1 == 5 :\n",
    "    print(\"Number is \" , number1) #if block statement \n",
    "else:\n",
    "    print(\"You did not enter 5 . Number you entered is \", number1) # else block \n",
    "print(\"I am out of the condition ... I will execute always !!\")"
   ]
  },
  {
   "cell_type": "code",
   "execution_count": 10,
   "metadata": {},
   "outputs": [
    {
     "name": "stdout",
     "output_type": "stream",
     "text": [
      "Enter the number \n",
      "10\n",
      "Number is greater than 5\n",
      "*******************\n",
      "I am out of the condition ... I will execute always !!\n"
     ]
    }
   ],
   "source": [
    "#Chained statement example \n",
    "number1 = int(input(\"Enter the number \\n\"))\n",
    "if number1 == 5 :\n",
    "    print(\"Number is five\") #if block statement \n",
    "    print(\"*******************\")\n",
    "elif number1 > 5: \n",
    "    print(\"Number is greater than 5\")    \n",
    "    print(\"*******************\")\n",
    "else:\n",
    "    print(\"Number is less than 5\") # else block \n",
    "    print(\"*******************\")\n",
    "print(\"I am out of the condition ... I will execute always !!\")"
   ]
  },
  {
   "cell_type": "code",
   "execution_count": 16,
   "metadata": {},
   "outputs": [
    {
     "name": "stdout",
     "output_type": "stream",
     "text": [
      "Enter the mark \n",
      "50\n",
      "You have got second class\n",
      "I am outside the decision block\n"
     ]
    }
   ],
   "source": [
    "mark = int(input(\"Enter the mark \\n\"))\n",
    "\n",
    "if mark > 80 and mark <=100:\n",
    "    print(\"You got distinction!!\")\n",
    "    print(\"Congrats\")\n",
    "elif mark <=80 and mark > 60:\n",
    "    print(\"You have got first class\")\n",
    "elif mark <=60 and mark > 35:\n",
    "    print(\"You have got second class\")\n",
    "elif mark <=35 and mark >=0:\n",
    "    print(\"You have failed\")\n",
    "    print(\"You have to rewrite\")\n",
    "else:\n",
    "    print(\"You have entered invalid mark\")\n",
    "print(\"I am outside the decision block\")"
   ]
  },
  {
   "cell_type": "code",
   "execution_count": 17,
   "metadata": {},
   "outputs": [
    {
     "name": "stdout",
     "output_type": "stream",
     "text": [
      "Enter the mark \n",
      "25\n",
      "Failed\n",
      "I am outside the decision block\n"
     ]
    }
   ],
   "source": [
    "mark = int(input(\"Enter the mark \\n\"))\n",
    "\n",
    "if mark > 100 or mark < 0:\n",
    "    print(\"Invalid mark ...\") # if block \n",
    "else:\n",
    "    if mark > 80:\n",
    "        print(\"You got distinction!!\")\n",
    "        print(\"Congrats\")\n",
    "    elif mark <=80 and mark > 60:\n",
    "        print(\"First class \")\n",
    "    elif mark <=60 and mark > 35:\n",
    "        print(\"Second class\")\n",
    "    elif mark <=35 and mark >=0:\n",
    "        print(\"Failed\")\n",
    "print(\"I am outside the decision block\")       "
   ]
  },
  {
   "cell_type": "code",
   "execution_count": 18,
   "metadata": {},
   "outputs": [
    {
     "name": "stdout",
     "output_type": "stream",
     "text": [
      "Enter the number\n",
      "25\n"
     ]
    },
    {
     "ename": "TypeError",
     "evalue": "'>' not supported between instances of 'str' and 'int'",
     "output_type": "error",
     "traceback": [
      "\u001b[1;31m---------------------------------------------------------------------------\u001b[0m",
      "\u001b[1;31mTypeError\u001b[0m                                 Traceback (most recent call last)",
      "\u001b[1;32m<ipython-input-18-41a29414638d>\u001b[0m in \u001b[0;36m<module>\u001b[1;34m\u001b[0m\n\u001b[0;32m      1\u001b[0m \u001b[0mnumber\u001b[0m \u001b[1;33m=\u001b[0m \u001b[0minput\u001b[0m\u001b[1;33m(\u001b[0m\u001b[1;34m\"Enter the number\\n\"\u001b[0m\u001b[1;33m)\u001b[0m\u001b[1;33m\u001b[0m\u001b[1;33m\u001b[0m\u001b[0m\n\u001b[0;32m      2\u001b[0m \u001b[1;33m\u001b[0m\u001b[0m\n\u001b[1;32m----> 3\u001b[1;33m \u001b[1;32mif\u001b[0m \u001b[0mnumber\u001b[0m \u001b[1;33m>\u001b[0m \u001b[1;36m5\u001b[0m\u001b[1;33m:\u001b[0m\u001b[1;33m\u001b[0m\u001b[1;33m\u001b[0m\u001b[0m\n\u001b[0m\u001b[0;32m      4\u001b[0m     \u001b[0mprint\u001b[0m\u001b[1;33m(\u001b[0m\u001b[1;34m\"Number is greater than 5\"\u001b[0m\u001b[1;33m)\u001b[0m\u001b[1;33m\u001b[0m\u001b[1;33m\u001b[0m\u001b[0m\n\u001b[0;32m      5\u001b[0m \u001b[1;32melse\u001b[0m\u001b[1;33m:\u001b[0m\u001b[1;33m\u001b[0m\u001b[1;33m\u001b[0m\u001b[0m\n",
      "\u001b[1;31mTypeError\u001b[0m: '>' not supported between instances of 'str' and 'int'"
     ]
    }
   ],
   "source": [
    "number = input(\"Enter the number\\n\")\n",
    "\n",
    "if number > 5:\n",
    "    print(\"Number is greater than 5\")\n",
    "else: \n",
    "    print(\"Number is less than 5\")\n",
    "    \n",
    "print(\"I will be always present ... as i am outside block\")"
   ]
  },
  {
   "cell_type": "markdown",
   "metadata": {},
   "source": [
    "<b> Exception Handling <b> "
   ]
  },
  {
   "cell_type": "code",
   "execution_count": 22,
   "metadata": {},
   "outputs": [
    {
     "name": "stdout",
     "output_type": "stream",
     "text": [
      "Enter the number\n",
      "25\n",
      "'>' not supported between instances of 'str' and 'int'\n",
      "Seems like you entered a string ... Oops!! Something is wrong\n",
      "I will be always present ... as i am outside block\n"
     ]
    }
   ],
   "source": [
    "try:\n",
    "    number = input(\"Enter the number\\n\")\n",
    "    if number > 5:\n",
    "        print(\"Number is greater than 5\")\n",
    "    else: \n",
    "        print(\"Number is less than 5\") #try block is over\n",
    "except Exception as e:\n",
    "    print(e)\n",
    "    print(\"Seems like you entered a string ... Oops!! Something is wrong\")\n",
    "print(\"I will be always present ... as i am outside block\")"
   ]
  },
  {
   "cell_type": "markdown",
   "metadata": {},
   "source": [
    "<b> Looping <b> "
   ]
  },
  {
   "cell_type": "markdown",
   "metadata": {},
   "source": [
    "-while loop \n",
    "-for loop"
   ]
  },
  {
   "cell_type": "code",
   "execution_count": 26,
   "metadata": {},
   "outputs": [
    {
     "name": "stdout",
     "output_type": "stream",
     "text": [
      "0\n",
      "1\n",
      "2\n",
      "3\n",
      "4\n",
      "5\n",
      "6\n",
      "7\n",
      "8\n",
      "9\n",
      "10\n",
      "I am outside while loop\n"
     ]
    }
   ],
   "source": [
    "i = 0 #iteration variable \n",
    "\n",
    "while i <= 10:\n",
    "    print(i) # while block stat 1 \n",
    "    i += 1  # i = i+ 1 , while block stat 2\n",
    "\n",
    "print(\"I am outside while loop\")"
   ]
  },
  {
   "cell_type": "markdown",
   "metadata": {},
   "source": [
    "<b> Average COmputation <b> "
   ]
  },
  {
   "cell_type": "code",
   "execution_count": 27,
   "metadata": {},
   "outputs": [
    {
     "name": "stdout",
     "output_type": "stream",
     "text": [
      "The number of students are:  6\n",
      "Total marks is  277\n",
      "Avg marks is  46.166666666666664\n"
     ]
    }
   ],
   "source": [
    "mark_list = [10,45,23,67,32,100]\n",
    "\n",
    "total_marks = 0 \n",
    "\n",
    "student_count = len(mark_list)\n",
    "\n",
    "print(\"The number of students are: \", student_count)\n",
    "\n",
    "index = 0 \n",
    "while index < student_count:\n",
    "    # do the summation \n",
    "    total_marks = total_marks + mark_list[index]\n",
    "    index = index + 1\n",
    "\n",
    "print(\"Total marks is \", total_marks)\n",
    "\n",
    "avg = total_marks / student_count\n",
    "\n",
    "print(\"Avg marks is \", avg)"
   ]
  },
  {
   "cell_type": "markdown",
   "metadata": {},
   "source": [
    "<b> break <b>"
   ]
  },
  {
   "cell_type": "code",
   "execution_count": 28,
   "metadata": {},
   "outputs": [
    {
     "name": "stdout",
     "output_type": "stream",
     "text": [
      "i = 1\n",
      "i = 2\n",
      "i = 3\n",
      "i = 4\n",
      "I am out now ...\n"
     ]
    }
   ],
   "source": [
    "i = 0\n",
    "\n",
    "while i < 10:\n",
    "    i = i+1\n",
    "    if i == 5:\n",
    "        break\n",
    "    print(\"i =\" , i)\n",
    "    \n",
    "print(\"I am out now ...\")"
   ]
  },
  {
   "cell_type": "markdown",
   "metadata": {},
   "source": [
    "<b> continue <b>"
   ]
  },
  {
   "cell_type": "code",
   "execution_count": 29,
   "metadata": {},
   "outputs": [
    {
     "name": "stdout",
     "output_type": "stream",
     "text": [
      "i = 1\n",
      "i = 2\n",
      "i = 3\n",
      "i = 4\n",
      "i = 6\n",
      "i = 7\n",
      "i = 8\n",
      "i = 9\n",
      "i = 10\n",
      "I am out now ...\n"
     ]
    }
   ],
   "source": [
    "i = 0\n",
    "\n",
    "while i < 10:\n",
    "    i = i+1\n",
    "    if i == 5:\n",
    "        continue\n",
    "    print(\"i =\" , i)\n",
    "    \n",
    "print(\"I am out now ...\")"
   ]
  },
  {
   "cell_type": "code",
   "execution_count": 31,
   "metadata": {},
   "outputs": [
    {
     "name": "stdout",
     "output_type": "stream",
     "text": [
      "Enter the number: \n",
      "2\n",
      "Number is present in the list\n",
      "I am outside  the lop\n"
     ]
    }
   ],
   "source": [
    "list1 = [1,2,3,4,5]\n",
    "\n",
    "number = int(input(\"Enter the number: \\n\"))\n",
    "index = 0\n",
    "\n",
    "while index < len(list1):\n",
    "    if number == list1[index]:\n",
    "        print(\"Number is present in the list\")\n",
    "        break\n",
    "    index = index + 1\n",
    "\n",
    "print(\"I am outside  the lop\")"
   ]
  },
  {
   "cell_type": "markdown",
   "metadata": {},
   "source": [
    "<b> for loop <b>"
   ]
  },
  {
   "cell_type": "code",
   "execution_count": 33,
   "metadata": {},
   "outputs": [
    {
     "name": "stdout",
     "output_type": "stream",
     "text": [
      "i is  0\n",
      "i is  1\n",
      "i is  2\n",
      "i is  3\n",
      "i is  4\n"
     ]
    }
   ],
   "source": [
    "for i in range(5):\n",
    "    print(\"i is \", i)"
   ]
  },
  {
   "cell_type": "code",
   "execution_count": 35,
   "metadata": {},
   "outputs": [
    {
     "name": "stdout",
     "output_type": "stream",
     "text": [
      "i is  5\n",
      "i is  6\n",
      "i is  7\n",
      "i is  8\n",
      "i is  9\n"
     ]
    }
   ],
   "source": [
    "for i in range(5,10):\n",
    "    print(\"i is \", i)"
   ]
  },
  {
   "cell_type": "code",
   "execution_count": 37,
   "metadata": {},
   "outputs": [
    {
     "name": "stdout",
     "output_type": "stream",
     "text": [
      "i is  5\n",
      "i is  8\n",
      "i is  11\n",
      "i is  14\n",
      "i is  17\n"
     ]
    }
   ],
   "source": [
    "for i in range(5,20,3):\n",
    "    print(\"i is \", i)"
   ]
  },
  {
   "cell_type": "code",
   "execution_count": 38,
   "metadata": {},
   "outputs": [
    {
     "name": "stdout",
     "output_type": "stream",
     "text": [
      "t\n",
      "h\n",
      "i\n",
      "s\n",
      " \n",
      "i\n",
      "s\n",
      " \n",
      "m\n",
      "y\n",
      " \n",
      "s\n",
      "t\n",
      "r\n",
      "i\n",
      "n\n",
      "g\n"
     ]
    }
   ],
   "source": [
    "string = \"this is my string\"\n",
    "\n",
    "for ch in string:\n",
    "    print(ch)"
   ]
  },
  {
   "cell_type": "code",
   "execution_count": 41,
   "metadata": {},
   "outputs": [
    {
     "name": "stdout",
     "output_type": "stream",
     "text": [
      "1\n",
      "2\n",
      "3\n",
      "a\n",
      "b\n",
      "2.5\n"
     ]
    }
   ],
   "source": [
    "list1 = [1,2,3,\"a\",\"b\",2.5]\n",
    "\n",
    "for element in list1:\n",
    "    print(element)"
   ]
  },
  {
   "cell_type": "code",
   "execution_count": 43,
   "metadata": {},
   "outputs": [
    {
     "name": "stdout",
     "output_type": "stream",
     "text": [
      "1\n",
      "2\n",
      "3\n",
      "a\n",
      "b\n",
      "2.5\n"
     ]
    }
   ],
   "source": [
    "tuple1 = (1,2,3,\"a\",\"b\",2.5)\n",
    "\n",
    "for element in tuple1:\n",
    "    print(element)"
   ]
  },
  {
   "cell_type": "markdown",
   "metadata": {},
   "source": [
    "<b> Function <b>"
   ]
  },
  {
   "cell_type": "code",
   "execution_count": 44,
   "metadata": {},
   "outputs": [],
   "source": [
    "#function definition\n",
    "def computer_average(numbers):\n",
    "    #count the number of elements \n",
    "    count = len(numbers)\n",
    "    \n",
    "    #initialize total \n",
    "    total = 0\n",
    "    \n",
    "    # for each ele in list, add ele to the total\n",
    "    for number in numbers:\n",
    "        total = total + number\n",
    "    \n",
    "    #compute average \n",
    "    avg = total / count\n",
    "    \n",
    "    #return the average to caller\n",
    "    return avg"
   ]
  },
  {
   "cell_type": "code",
   "execution_count": 45,
   "metadata": {},
   "outputs": [
    {
     "data": {
      "text/plain": [
       "3.0"
      ]
     },
     "execution_count": 45,
     "metadata": {},
     "output_type": "execute_result"
    }
   ],
   "source": [
    "# function call \n",
    "computer_average([2,3,4])"
   ]
  },
  {
   "cell_type": "code",
   "execution_count": 46,
   "metadata": {},
   "outputs": [
    {
     "data": {
      "text/plain": [
       "9.0"
      ]
     },
     "execution_count": 46,
     "metadata": {},
     "output_type": "execute_result"
    }
   ],
   "source": [
    "computer_average([12,1,3,14,15])"
   ]
  },
  {
   "cell_type": "code",
   "execution_count": 47,
   "metadata": {},
   "outputs": [
    {
     "name": "stdout",
     "output_type": "stream",
     "text": [
      "37.666666666666664\n"
     ]
    }
   ],
   "source": [
    "list1 = [2,68,43]\n",
    "avg = computer_average(list1)\n",
    "\n",
    "print(avg)"
   ]
  },
  {
   "cell_type": "markdown",
   "metadata": {},
   "source": [
    "<b> Function without input and outcome <b> "
   ]
  },
  {
   "cell_type": "code",
   "execution_count": 48,
   "metadata": {},
   "outputs": [],
   "source": [
    "def print_notice():\n",
    "    print(\"*******************\")\n",
    "    print(\"This is a notice\")\n",
    "    print(\"*******************\")"
   ]
  },
  {
   "cell_type": "code",
   "execution_count": 49,
   "metadata": {},
   "outputs": [
    {
     "name": "stdout",
     "output_type": "stream",
     "text": [
      "*******************\n",
      "This is a notice\n",
      "*******************\n"
     ]
    }
   ],
   "source": [
    "print_notice()"
   ]
  },
  {
   "cell_type": "code",
   "execution_count": 50,
   "metadata": {},
   "outputs": [
    {
     "name": "stdout",
     "output_type": "stream",
     "text": [
      "*******************\n",
      "This is a notice\n",
      "*******************\n"
     ]
    }
   ],
   "source": [
    "print_notice()"
   ]
  },
  {
   "cell_type": "markdown",
   "metadata": {},
   "source": [
    "<b> Functtion wwith input but without outcome <b>"
   ]
  },
  {
   "cell_type": "code",
   "execution_count": 51,
   "metadata": {},
   "outputs": [],
   "source": [
    "#function definition\n",
    "def computer_average_without_outcome(numbers):\n",
    "    #count the number of elements \n",
    "    count = len(numbers)\n",
    "    \n",
    "    #initialize total \n",
    "    total = 0\n",
    "    \n",
    "    # for each ele in list, add ele to the total\n",
    "    for number in numbers:\n",
    "        total = total + number\n",
    "    \n",
    "    #compute average \n",
    "    avg = total / count\n",
    "    \n",
    "    #return the average to caller\n",
    "    print(\"Average is \", avg)"
   ]
  },
  {
   "cell_type": "code",
   "execution_count": 52,
   "metadata": {},
   "outputs": [
    {
     "name": "stdout",
     "output_type": "stream",
     "text": [
      "Average is  3.0\n"
     ]
    }
   ],
   "source": [
    "computer_average_without_outcome(([1,2,3,4,5]))"
   ]
  },
  {
   "cell_type": "markdown",
   "metadata": {},
   "source": [
    "<b> Arguments and parameters <b>"
   ]
  },
  {
   "cell_type": "code",
   "execution_count": 56,
   "metadata": {},
   "outputs": [],
   "source": [
    "# function definition \n",
    "# numbers --> input that this function takes \n",
    "# numbers that we receive is called parameters \n",
    "def find_minimum(numbers):\n",
    "    min_val = numbers[0]\n",
    "    \n",
    "    for number in numbers:\n",
    "        if number < min_val:\n",
    "            min_val = number\n",
    "    return min_val "
   ]
  },
  {
   "cell_type": "code",
   "execution_count": 57,
   "metadata": {},
   "outputs": [
    {
     "name": "stdout",
     "output_type": "stream",
     "text": [
      "Minimum is  1\n"
     ]
    }
   ],
   "source": [
    "numbers_list = [4,30,10,1,25,67]\n",
    "# function call\n",
    "# numbers_list is called args\n",
    "min = find_minimum(numbers_list)\n",
    "print(\"Minimum is \", min)"
   ]
  },
  {
   "cell_type": "code",
   "execution_count": 65,
   "metadata": {},
   "outputs": [],
   "source": [
    "def print_characters(char, times):\n",
    "    for i in range(times):\n",
    "        print(char , end = \",\")"
   ]
  },
  {
   "cell_type": "code",
   "execution_count": 66,
   "metadata": {},
   "outputs": [
    {
     "name": "stdout",
     "output_type": "stream",
     "text": [
      "@,@,@,@,@,"
     ]
    }
   ],
   "source": [
    "print_characters(\"@\", 5)"
   ]
  },
  {
   "cell_type": "markdown",
   "metadata": {},
   "source": [
    "<b> Default args and params <b>"
   ]
  },
  {
   "cell_type": "code",
   "execution_count": 69,
   "metadata": {},
   "outputs": [],
   "source": [
    "def print_characters_with_default(char, times=5):\n",
    "    for i in range(times):\n",
    "        print(char , end = \" \")"
   ]
  },
  {
   "cell_type": "code",
   "execution_count": 70,
   "metadata": {},
   "outputs": [
    {
     "name": "stdout",
     "output_type": "stream",
     "text": [
      "& & & & & "
     ]
    }
   ],
   "source": [
    "print_characters_with_default(\"&\")"
   ]
  },
  {
   "cell_type": "code",
   "execution_count": 76,
   "metadata": {},
   "outputs": [
    {
     "name": "stdout",
     "output_type": "stream",
     "text": [
      "& & & & & & "
     ]
    }
   ],
   "source": [
    "print_characters_with_default(times=6, char=\"&\")"
   ]
  },
  {
   "cell_type": "markdown",
   "metadata": {},
   "source": [
    "<b> Example of factorial <b> "
   ]
  },
  {
   "cell_type": "code",
   "execution_count": 79,
   "metadata": {},
   "outputs": [],
   "source": [
    "#compute factorial \n",
    "# 4! = 4*3*2*1 =  24 \n",
    "\n",
    "def compute_factorial(number):\n",
    "    factorial = 1 \n",
    "    \n",
    "    while number > 0:\n",
    "        factorial = factorial * number\n",
    "        number = number - 1 \n",
    "    \n",
    "    return factorial"
   ]
  },
  {
   "cell_type": "code",
   "execution_count": 81,
   "metadata": {},
   "outputs": [
    {
     "name": "stdout",
     "output_type": "stream",
     "text": [
      "Factorial is  120\n"
     ]
    }
   ],
   "source": [
    "number = 5\n",
    "fact = compute_factorial(number)\n",
    "print(\"Factorial is \", fact)"
   ]
  },
  {
   "cell_type": "code",
   "execution_count": 82,
   "metadata": {},
   "outputs": [
    {
     "data": {
      "text/plain": [
       "120"
      ]
     },
     "execution_count": 82,
     "metadata": {},
     "output_type": "execute_result"
    }
   ],
   "source": [
    "import math\n",
    "math.factorial(5)"
   ]
  },
  {
   "cell_type": "markdown",
   "metadata": {},
   "source": [
    "<b> File Handling <b> "
   ]
  },
  {
   "cell_type": "markdown",
   "metadata": {},
   "source": [
    "<b> Opening a file <b>"
   ]
  },
  {
   "cell_type": "code",
   "execution_count": 85,
   "metadata": {},
   "outputs": [],
   "source": [
    "f = open(\"dummy_file.txt\")"
   ]
  },
  {
   "cell_type": "code",
   "execution_count": 86,
   "metadata": {},
   "outputs": [],
   "source": [
    "content = f.read()"
   ]
  },
  {
   "cell_type": "code",
   "execution_count": 87,
   "metadata": {},
   "outputs": [
    {
     "name": "stdout",
     "output_type": "stream",
     "text": [
      "This is demo file. \n",
      "It contains many lines in it. \n",
      "Some lines are big, some are small. \n",
      "Any python program can read this file. \n",
      "Any pythonp program can write into this file. \n"
     ]
    }
   ],
   "source": [
    "print(content)"
   ]
  },
  {
   "cell_type": "code",
   "execution_count": 88,
   "metadata": {},
   "outputs": [],
   "source": [
    "f.close()"
   ]
  },
  {
   "cell_type": "markdown",
   "metadata": {},
   "source": [
    "<b> Data processing on a file <b> "
   ]
  },
  {
   "cell_type": "code",
   "execution_count": 89,
   "metadata": {},
   "outputs": [
    {
     "name": "stdout",
     "output_type": "stream",
     "text": [
      "['This is demo file. ', 'It contains many lines in it. ', 'Some lines are big, some are small. ', 'Any python program can read this file. ', 'Any pythonp program can write into this file. ']\n",
      "<class 'list'>\n"
     ]
    }
   ],
   "source": [
    "file = open(\"dummy_file.txt\")\n",
    "\n",
    "content = file.read()\n",
    "\n",
    "lines = content.split(\"\\n\")\n",
    "\n",
    "print(lines)\n",
    "print(type(lines))"
   ]
  },
  {
   "cell_type": "code",
   "execution_count": 92,
   "metadata": {},
   "outputs": [
    {
     "name": "stdout",
     "output_type": "stream",
     "text": [
      "0 ) This is demo file. \n",
      "\t Number of characters : 19\n",
      "\t Number of words : 4\n",
      "1 ) It contains many lines in it. \n",
      "\t Number of characters : 30\n",
      "\t Number of words : 6\n",
      "2 ) Some lines are big, some are small. \n",
      "\t Number of characters : 36\n",
      "\t Number of words : 7\n",
      "3 ) Any python program can read this file. \n",
      "\t Number of characters : 39\n",
      "\t Number of words : 7\n",
      "4 ) Any pythonp program can write into this file. \n",
      "\t Number of characters : 46\n",
      "\t Number of words : 8\n"
     ]
    }
   ],
   "source": [
    "index = 0 \n",
    "\n",
    "for i in lines:\n",
    "    print(index, ')', i)\n",
    "    print(\"\\t Number of characters :\" , len(i))\n",
    "    words = i.split()\n",
    "    print(\"\\t Number of words :\", len(words))\n",
    "    index +=1 \n",
    "\n",
    "file.close()"
   ]
  },
  {
   "cell_type": "markdown",
   "metadata": {},
   "source": [
    "<b> Using exception <b> "
   ]
  },
  {
   "cell_type": "code",
   "execution_count": 95,
   "metadata": {},
   "outputs": [
    {
     "name": "stdout",
     "output_type": "stream",
     "text": [
      "[Errno 2] No such file or directory: 'my_file.txt'\n",
      "Some error happened ... maybe check file name\n",
      "I am here \n"
     ]
    }
   ],
   "source": [
    "try: \n",
    "    file = open(\"my_file.txt\")\n",
    "    file.read()\n",
    "    file.close()\n",
    "except Exception as e:\n",
    "    print(e)\n",
    "    print(\"Some error happened ... maybe check file name\")\n",
    "print(\"I am here \")"
   ]
  },
  {
   "cell_type": "code",
   "execution_count": 94,
   "metadata": {},
   "outputs": [
    {
     "ename": "FileNotFoundError",
     "evalue": "[Errno 2] No such file or directory: 'my_file.txt'",
     "output_type": "error",
     "traceback": [
      "\u001b[1;31m---------------------------------------------------------------------------\u001b[0m",
      "\u001b[1;31mFileNotFoundError\u001b[0m                         Traceback (most recent call last)",
      "\u001b[1;32m<ipython-input-94-5ac90d13ea35>\u001b[0m in \u001b[0;36m<module>\u001b[1;34m\u001b[0m\n\u001b[1;32m----> 1\u001b[1;33m \u001b[0mfile\u001b[0m \u001b[1;33m=\u001b[0m \u001b[0mopen\u001b[0m\u001b[1;33m(\u001b[0m\u001b[1;34m\"my_file.txt\"\u001b[0m\u001b[1;33m)\u001b[0m\u001b[1;33m\u001b[0m\u001b[1;33m\u001b[0m\u001b[0m\n\u001b[0m\u001b[0;32m      2\u001b[0m \u001b[0mfile\u001b[0m\u001b[1;33m.\u001b[0m\u001b[0mread\u001b[0m\u001b[1;33m(\u001b[0m\u001b[1;33m)\u001b[0m\u001b[1;33m\u001b[0m\u001b[1;33m\u001b[0m\u001b[0m\n\u001b[0;32m      3\u001b[0m \u001b[0mfile\u001b[0m\u001b[1;33m.\u001b[0m\u001b[0mclose\u001b[0m\u001b[1;33m(\u001b[0m\u001b[1;33m)\u001b[0m\u001b[1;33m\u001b[0m\u001b[1;33m\u001b[0m\u001b[0m\n\u001b[0;32m      4\u001b[0m \u001b[0mprint\u001b[0m\u001b[1;33m(\u001b[0m\u001b[1;34m\"Some error happened ... maybe check file name\"\u001b[0m\u001b[1;33m)\u001b[0m\u001b[1;33m\u001b[0m\u001b[1;33m\u001b[0m\u001b[0m\n",
      "\u001b[1;31mFileNotFoundError\u001b[0m: [Errno 2] No such file or directory: 'my_file.txt'"
     ]
    }
   ],
   "source": [
    "file = open(\"my_file.txt\")\n",
    "file.read()\n",
    "file.close()\n",
    "print(\"Some error happened ... maybe check file name\")"
   ]
  },
  {
   "cell_type": "markdown",
   "metadata": {},
   "source": [
    "<b> Writing the file <b>"
   ]
  },
  {
   "cell_type": "code",
   "execution_count": 100,
   "metadata": {},
   "outputs": [],
   "source": [
    "f = open(\"my_file.txt\", \"w\")\n",
    "print(\"This is first statement\", file=f)\n",
    "print(\"This is second statement\", file=f)\n",
    "print(\"This is third statement\", file=f)\n",
    "print(\"This is 4th statement\", file=f)\n",
    "f.close()"
   ]
  },
  {
   "cell_type": "code",
   "execution_count": 101,
   "metadata": {},
   "outputs": [],
   "source": [
    "f = open(\"my_file.txt\")"
   ]
  },
  {
   "cell_type": "code",
   "execution_count": 102,
   "metadata": {},
   "outputs": [
    {
     "name": "stdout",
     "output_type": "stream",
     "text": [
      "This is first statement\n",
      "This is second statement\n",
      "This is third statement\n",
      "This is 4th statement\n",
      "\n"
     ]
    }
   ],
   "source": [
    "print(f.read())"
   ]
  },
  {
   "cell_type": "code",
   "execution_count": 103,
   "metadata": {},
   "outputs": [],
   "source": [
    "fout = open(\"second_file.txt\",\"w\")\n",
    "fout.write(\"1 ashwin 12 35 \\n\")\n",
    "fout.write(\"2 vineer 11 35 \\n\")\n",
    "fout.close()"
   ]
  },
  {
   "cell_type": "code",
   "execution_count": 107,
   "metadata": {},
   "outputs": [],
   "source": [
    "fout = open(\"second_file.txt\",\"w\")\n",
    "fout.write(\"1 amiya 12 65 \\n\")\n",
    "fout.write(\"2 gagan 15 45 \\n\")\n",
    "fout.close()"
   ]
  },
  {
   "cell_type": "code",
   "execution_count": null,
   "metadata": {},
   "outputs": [],
   "source": []
  }
 ],
 "metadata": {
  "kernelspec": {
   "display_name": "Python 3",
   "language": "python",
   "name": "python3"
  },
  "language_info": {
   "codemirror_mode": {
    "name": "ipython",
    "version": 3
   },
   "file_extension": ".py",
   "mimetype": "text/x-python",
   "name": "python",
   "nbconvert_exporter": "python",
   "pygments_lexer": "ipython3",
   "version": "3.8.5"
  }
 },
 "nbformat": 4,
 "nbformat_minor": 4
}
